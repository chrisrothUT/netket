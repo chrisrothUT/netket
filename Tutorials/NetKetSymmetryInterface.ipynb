{
  "nbformat": 4,
  "nbformat_minor": 0,
  "metadata": {
    "colab": {
      "name": "NetKetSymmetryInterface",
      "provenance": [],
      "collapsed_sections": []
    },
    "kernelspec": {
      "name": "python3",
      "display_name": "Python 3"
    },
    "language_info": {
      "name": "python"
    },
    "accelerator": "GPU"
  },
  "cells": [
    {
      "cell_type": "markdown",
      "metadata": {
        "id": "XqwhNNHe_4Ga"
      },
      "source": [
        "# Using Netket's New Symmetry Interface to Model Broken Symmetries\n",
        "\n",
        "Today we'll be taking a dive into Netket's new symmetry interface. This package allows you to find the lowest energy eigenstate under a given discrete symmetry representation. This is an extremely useful tool for probing the zero-temperature phase diagram of quantum systems, as it allows you to find the ground states and low-lying excited states. \n",
        "\n",
        "For ordered states on symmetric lattices, the low-lying energy levels typically follow a tower of states representation, where the low-lying energy levels are determined by the symmetry breaking. Quantum spin liquids don't break global symmetries, but they still have a unique excitation signatures. Therefore, we can distinguish quantum phases by looking at the structure of the excitation spectrum, and estimate phase transitions by level crossings. \n",
        "\n",
        "We'll begin today by learning how to create lattices, assign them with symmetries, and generate character tables corresponding to irreducible representations. Then we will do a tower of states analysis $J_1-J_2$ Heisenberg model on the Square lattice, which is thought to give rise to a spin liquid state in the range $\\frac{J_2}{J_1} \\in [0.49,0.54]$.\n",
        "\n",
        "First let's learn about the symmetry interface! Let's begin by installing Netket in this notebook and importing the essentials. Before running any of the code press the dropdown arrow to the right of the horizontal gray bars and press \"view resources\". Press the blue link that says \"change runtime type\" and select GPU from the dropdown menu."
      ]
    },
    {
      "cell_type": "code",
      "metadata": {
        "colab": {
          "base_uri": "https://localhost:8080/"
        },
        "id": "G3pLjf9dAixB",
        "outputId": "edfbb27e-ff92-4acb-9c5e-3a67ea527f44"
      },
      "source": [
        "!pip install --upgrade \"git+https://github.com/netket/netket\"\n",
        "\n",
        "import netket as nk\n",
        "import numpy as np\n",
        "from matplotlib import pylab as plt\n",
        "import json\n",
        "from jax.scipy.sparse.linalg import cg\n",
        "\n"
      ],
      "execution_count": 1,
      "outputs": [
        {
          "output_type": "stream",
          "name": "stdout",
          "text": [
            "Collecting git+https://github.com/netket/netket\n",
            "  Cloning https://github.com/netket/netket to /tmp/pip-req-build-iq6q3ihf\n",
            "  Running command git clone -q https://github.com/netket/netket /tmp/pip-req-build-iq6q3ihf\n",
            "  Installing build dependencies ... \u001b[?25l\u001b[?25hdone\n",
            "  Getting requirements to build wheel ... \u001b[?25l\u001b[?25hdone\n",
            "    Preparing wheel metadata ... \u001b[?25l\u001b[?25hdone\n",
            "Collecting scipy<2,>=1.5.3\n",
            "  Downloading scipy-1.7.3-cp37-cp37m-manylinux_2_12_x86_64.manylinux2010_x86_64.whl (38.1 MB)\n",
            "\u001b[K     |████████████████████████████████| 38.1 MB 1.2 MB/s \n",
            "\u001b[?25hRequirement already satisfied: jaxlib>=0.1.69 in /usr/local/lib/python3.7/dist-packages (from netket==3.3) (0.1.71+cuda111)\n",
            "Collecting optax<0.2,>=0.0.2\n",
            "  Downloading optax-0.1.0-py3-none-any.whl (126 kB)\n",
            "\u001b[K     |████████████████████████████████| 126 kB 70.4 MB/s \n",
            "\u001b[?25hCollecting orjson~=3.4\n",
            "  Downloading orjson-3.6.5-cp37-cp37m-manylinux_2_24_x86_64.whl (247 kB)\n",
            "\u001b[K     |████████████████████████████████| 247 kB 61.8 MB/s \n",
            "\u001b[?25hRequirement already satisfied: numpy~=1.18 in /usr/local/lib/python3.7/dist-packages (from netket==3.3) (1.19.5)\n",
            "Collecting igraph~=0.9.8\n",
            "  Downloading igraph-0.9.8-cp37-cp37m-manylinux_2_12_x86_64.manylinux2010_x86_64.whl (3.2 MB)\n",
            "\u001b[K     |████████████████████████████████| 3.2 MB 60.4 MB/s \n",
            "\u001b[?25hCollecting flax<0.4,>=0.3.5\n",
            "  Downloading flax-0.3.6-py3-none-any.whl (207 kB)\n",
            "\u001b[K     |████████████████████████████████| 207 kB 69.1 MB/s \n",
            "\u001b[?25hCollecting numba4jax<0.1,>=0.0.3\n",
            "  Downloading numba4jax-0.0.5-py3-none-any.whl (14 kB)\n",
            "Collecting numba<0.55,>=0.52\n",
            "  Downloading numba-0.54.1-cp37-cp37m-manylinux2014_x86_64.manylinux_2_17_x86_64.whl (3.3 MB)\n",
            "\u001b[K     |████████████████████████████████| 3.3 MB 42.0 MB/s \n",
            "\u001b[?25hRequirement already satisfied: tqdm~=4.60 in /usr/local/lib/python3.7/dist-packages (from netket==3.3) (4.62.3)\n",
            "Collecting plum-dispatch~=1.5.1\n",
            "  Downloading plum_dispatch-1.5.8-cp37-cp37m-manylinux_2_5_x86_64.manylinux1_x86_64.manylinux_2_12_x86_64.manylinux2010_x86_64.whl (471 kB)\n",
            "\u001b[K     |████████████████████████████████| 471 kB 62.7 MB/s \n",
            "\u001b[?25hRequirement already satisfied: jax<0.2.27,>=0.2.23 in /usr/local/lib/python3.7/dist-packages (from netket==3.3) (0.2.25)\n",
            "Requirement already satisfied: msgpack in /usr/local/lib/python3.7/dist-packages (from flax<0.4,>=0.3.5->netket==3.3) (1.0.3)\n",
            "Requirement already satisfied: matplotlib in /usr/local/lib/python3.7/dist-packages (from flax<0.4,>=0.3.5->netket==3.3) (3.2.2)\n",
            "Collecting texttable>=1.6.2\n",
            "  Downloading texttable-1.6.4-py2.py3-none-any.whl (10 kB)\n",
            "Requirement already satisfied: opt-einsum in /usr/local/lib/python3.7/dist-packages (from jax<0.2.27,>=0.2.23->netket==3.3) (3.3.0)\n",
            "Requirement already satisfied: absl-py in /usr/local/lib/python3.7/dist-packages (from jax<0.2.27,>=0.2.23->netket==3.3) (0.12.0)\n",
            "Requirement already satisfied: typing-extensions in /usr/local/lib/python3.7/dist-packages (from jax<0.2.27,>=0.2.23->netket==3.3) (3.10.0.2)\n",
            "Requirement already satisfied: flatbuffers<3.0,>=1.12 in /usr/local/lib/python3.7/dist-packages (from jaxlib>=0.1.69->netket==3.3) (2.0)\n",
            "Collecting llvmlite<0.38,>=0.37.0rc1\n",
            "  Downloading llvmlite-0.37.0-cp37-cp37m-manylinux2014_x86_64.whl (26.3 MB)\n",
            "\u001b[K     |████████████████████████████████| 26.3 MB 1.4 MB/s \n",
            "\u001b[?25hRequirement already satisfied: setuptools in /usr/local/lib/python3.7/dist-packages (from numba<0.55,>=0.52->netket==3.3) (57.4.0)\n",
            "Requirement already satisfied: cffi>=1.12 in /usr/local/lib/python3.7/dist-packages (from numba4jax<0.1,>=0.0.3->netket==3.3) (1.15.0)\n",
            "Requirement already satisfied: pycparser in /usr/local/lib/python3.7/dist-packages (from cffi>=1.12->numba4jax<0.1,>=0.0.3->netket==3.3) (2.21)\n",
            "Collecting chex>=0.0.4\n",
            "  Downloading chex-0.1.0-py3-none-any.whl (65 kB)\n",
            "\u001b[K     |████████████████████████████████| 65 kB 4.8 MB/s \n",
            "\u001b[?25hRequirement already satisfied: six in /usr/local/lib/python3.7/dist-packages (from absl-py->jax<0.2.27,>=0.2.23->netket==3.3) (1.15.0)\n",
            "Requirement already satisfied: toolz>=0.9.0 in /usr/local/lib/python3.7/dist-packages (from chex>=0.0.4->optax<0.2,>=0.0.2->netket==3.3) (0.11.2)\n",
            "Requirement already satisfied: dm-tree>=0.1.5 in /usr/local/lib/python3.7/dist-packages (from chex>=0.0.4->optax<0.2,>=0.0.2->netket==3.3) (0.1.6)\n",
            "Requirement already satisfied: python-dateutil>=2.1 in /usr/local/lib/python3.7/dist-packages (from matplotlib->flax<0.4,>=0.3.5->netket==3.3) (2.8.2)\n",
            "Requirement already satisfied: kiwisolver>=1.0.1 in /usr/local/lib/python3.7/dist-packages (from matplotlib->flax<0.4,>=0.3.5->netket==3.3) (1.3.2)\n",
            "Requirement already satisfied: cycler>=0.10 in /usr/local/lib/python3.7/dist-packages (from matplotlib->flax<0.4,>=0.3.5->netket==3.3) (0.11.0)\n",
            "Requirement already satisfied: pyparsing!=2.0.4,!=2.1.2,!=2.1.6,>=2.0.1 in /usr/local/lib/python3.7/dist-packages (from matplotlib->flax<0.4,>=0.3.5->netket==3.3) (3.0.6)\n",
            "Building wheels for collected packages: netket\n",
            "  Building wheel for netket (PEP 517) ... \u001b[?25l\u001b[?25hdone\n",
            "  Created wheel for netket: filename=netket-3.3-py3-none-any.whl size=479805 sha256=20cf47c2020554e9144987125bd6f2c976558422420e362ea08aa68acd195623\n",
            "  Stored in directory: /tmp/pip-ephem-wheel-cache-6zrv9tue/wheels/d0/5b/b8/11a4fa65066c3092969a86f17055c382c8ff9e7aaa633a3684\n",
            "Successfully built netket\n",
            "Installing collected packages: scipy, llvmlite, chex, texttable, optax, numba, plum-dispatch, orjson, numba4jax, igraph, flax, netket\n",
            "  Attempting uninstall: scipy\n",
            "    Found existing installation: scipy 1.4.1\n",
            "    Uninstalling scipy-1.4.1:\n",
            "      Successfully uninstalled scipy-1.4.1\n",
            "  Attempting uninstall: llvmlite\n",
            "    Found existing installation: llvmlite 0.34.0\n",
            "    Uninstalling llvmlite-0.34.0:\n",
            "      Successfully uninstalled llvmlite-0.34.0\n",
            "  Attempting uninstall: numba\n",
            "    Found existing installation: numba 0.51.2\n",
            "    Uninstalling numba-0.51.2:\n",
            "      Successfully uninstalled numba-0.51.2\n",
            "\u001b[31mERROR: pip's dependency resolver does not currently take into account all the packages that are installed. This behaviour is the source of the following dependency conflicts.\n",
            "albumentations 0.1.12 requires imgaug<0.2.7,>=0.2.5, but you have imgaug 0.2.9 which is incompatible.\u001b[0m\n",
            "Successfully installed chex-0.1.0 flax-0.3.6 igraph-0.9.8 llvmlite-0.37.0 netket-3.3 numba-0.54.1 numba4jax-0.0.5 optax-0.1.0 orjson-3.6.5 plum-dispatch-1.5.8 scipy-1.7.3 texttable-1.6.4\n"
          ]
        }
      ]
    },
    {
      "cell_type": "markdown",
      "metadata": {
        "id": "7ZFNECATBpSS"
      },
      "source": [
        "First, we'll describe how you can build a lattice with a symmetry group. If it's a common lattice, you can load it directly from NetKet's prebuilt lattices. Let's create a 4x4 square lattice."
      ]
    },
    {
      "cell_type": "code",
      "metadata": {
        "id": "S70e6ceJBbp3"
      },
      "source": [
        "from netket.graph import Square\n",
        "L = 4\n",
        "square_lattice = Square(4)"
      ],
      "execution_count": 2,
      "outputs": []
    },
    {
      "cell_type": "markdown",
      "metadata": {
        "id": "GjCXI664CEX9"
      },
      "source": [
        "A `Lattice` object stores graph information in two different ways, as a collection of nodes and edges, and as a set of coordinates. We can assign it with a `point_group`, which includes the symmetry elements (excluding translations) that map the lattice to itself. NetKet will automatically calculate the space group, which includes translations, from the point group. While the `point_group` and `space_group` objects can be computed from a coordinate representation, they operate as a set of permutations on a graph. Let's take a look at our `group` objects."
      ]
    },
    {
      "cell_type": "code",
      "metadata": {
        "colab": {
          "base_uri": "https://localhost:8080/"
        },
        "id": "_XK1OzmHD20C",
        "outputId": "039604a1-67a3-44e6-f612-e86b018e4980"
      },
      "source": [
        "#Compute point group as permutations on lattice\n",
        "point_group = square_lattice.point_group()\n",
        "\n",
        "#Compute space group as permutations on lattice\n",
        "space_group = square_lattice.space_group()\n",
        "\n",
        "#Access the array of space group permutations\n",
        "space_group_as_array = np.asarray(space_group)\n",
        "\n",
        "print(point_group)\n",
        "print(space_group)\n",
        "print(space_group_as_array)"
      ],
      "execution_count": 3,
      "outputs": [
        {
          "output_type": "stream",
          "name": "stdout",
          "text": [
            "PermutationGroup(elems=[Id(), Refl(0°), Refl(90°), Rot(180°), Refl(45°), Rot(90°), Rot(-90°), Refl(-45°)], degree=16)\n",
            "PermutationGroup(elems=[Id(), Refl(0°), Refl(90°), Rot(180°), Refl(45°), Rot(90°), Rot(-90°), Refl(-45°), Translation([0, 1]), Translation([0, 1]) @ Refl(0°), Translation([0, 1]) @ Refl(90°), Translation([0, 1]) @ Rot(180°), Translation([0, 1]) @ Refl(45°), Translation([0, 1]) @ Rot(90°), Translation([0, 1]) @ Rot(-90°), Translation([0, 1]) @ Refl(-45°), Translation([0, 2]), Translation([0, 2]) @ Refl(0°), Translation([0, 2]) @ Refl(90°), Translation([0, 2]) @ Rot(180°), Translation([0, 2]) @ Refl(45°), Translation([0, 2]) @ Rot(90°), Translation([0, 2]) @ Rot(-90°), Translation([0, 2]) @ Refl(-45°), Translation([0, 3]), Translation([0, 3]) @ Refl(0°), Translation([0, 3]) @ Refl(90°), Translation([0, 3]) @ Rot(180°), Translation([0, 3]) @ Refl(45°), Translation([0, 3]) @ Rot(90°), Translation([0, 3]) @ Rot(-90°), Translation([0, 3]) @ Refl(-45°), Translation([1, 0]), Translation([1, 0]) @ Refl(0°), Translation([1, 0]) @ Refl(90°), Translation([1, 0]) @ Rot(180°), Translation([1, 0]) @ Refl(45°), Translation([1, 0]) @ Rot(90°), Translation([1, 0]) @ Rot(-90°), Translation([1, 0]) @ Refl(-45°), Translation([1, 1]), Translation([1, 1]) @ Refl(0°), Translation([1, 1]) @ Refl(90°), Translation([1, 1]) @ Rot(180°), Translation([1, 1]) @ Refl(45°), Translation([1, 1]) @ Rot(90°), Translation([1, 1]) @ Rot(-90°), Translation([1, 1]) @ Refl(-45°), Translation([1, 2]), Translation([1, 2]) @ Refl(0°), Translation([1, 2]) @ Refl(90°), Translation([1, 2]) @ Rot(180°), Translation([1, 2]) @ Refl(45°), Translation([1, 2]) @ Rot(90°), Translation([1, 2]) @ Rot(-90°), Translation([1, 2]) @ Refl(-45°), Translation([1, 3]), Translation([1, 3]) @ Refl(0°), Translation([1, 3]) @ Refl(90°), Translation([1, 3]) @ Rot(180°), Translation([1, 3]) @ Refl(45°), Translation([1, 3]) @ Rot(90°), Translation([1, 3]) @ Rot(-90°), Translation([1, 3]) @ Refl(-45°), Translation([2, 0]), Translation([2, 0]) @ Refl(0°), Translation([2, 0]) @ Refl(90°), Translation([2, 0]) @ Rot(180°), Translation([2, 0]) @ Refl(45°), Translation([2, 0]) @ Rot(90°), Translation([2, 0]) @ Rot(-90°), Translation([2, 0]) @ Refl(-45°), Translation([2, 1]), Translation([2, 1]) @ Refl(0°), Translation([2, 1]) @ Refl(90°), Translation([2, 1]) @ Rot(180°), Translation([2, 1]) @ Refl(45°), Translation([2, 1]) @ Rot(90°), Translation([2, 1]) @ Rot(-90°), Translation([2, 1]) @ Refl(-45°), Translation([2, 2]), Translation([2, 2]) @ Refl(0°), Translation([2, 2]) @ Refl(90°), Translation([2, 2]) @ Rot(180°), Translation([2, 2]) @ Refl(45°), Translation([2, 2]) @ Rot(90°), Translation([2, 2]) @ Rot(-90°), Translation([2, 2]) @ Refl(-45°), Translation([2, 3]), Translation([2, 3]) @ Refl(0°), Translation([2, 3]) @ Refl(90°), Translation([2, 3]) @ Rot(180°), Translation([2, 3]) @ Refl(45°), Translation([2, 3]) @ Rot(90°), Translation([2, 3]) @ Rot(-90°), Translation([2, 3]) @ Refl(-45°), Translation([3, 0]), Translation([3, 0]) @ Refl(0°), Translation([3, 0]) @ Refl(90°), Translation([3, 0]) @ Rot(180°), Translation([3, 0]) @ Refl(45°), Translation([3, 0]) @ Rot(90°), Translation([3, 0]) @ Rot(-90°), Translation([3, 0]) @ Refl(-45°), Translation([3, 1]), Translation([3, 1]) @ Refl(0°), Translation([3, 1]) @ Refl(90°), Translation([3, 1]) @ Rot(180°), Translation([3, 1]) @ Refl(45°), Translation([3, 1]) @ Rot(90°), Translation([3, 1]) @ Rot(-90°), Translation([3, 1]) @ Refl(-45°), Translation([3, 2]), Translation([3, 2]) @ Refl(0°), Translation([3, 2]) @ Refl(90°), Translation([3, 2]) @ Rot(180°), Translation([3, 2]) @ Refl(45°), Translation([3, 2]) @ Rot(90°), Translation([3, 2]) @ Rot(-90°), Translation([3, 2]) @ Refl(-45°), Translation([3, 3]), Translation([3, 3]) @ Refl(0°), Translation([3, 3]) @ Refl(90°), Translation([3, 3]) @ Rot(180°), Translation([3, 3]) @ Refl(45°), Translation([3, 3]) @ Rot(90°), Translation([3, 3]) @ Rot(-90°), Translation([3, 3]) @ Refl(-45°)], degree=16)\n",
            "[[ 0  1  2 ... 13 14 15]\n",
            " [ 0  3  2 ... 15 14 13]\n",
            " [ 0  1  2 ...  5  6  7]\n",
            " ...\n",
            " [ 7 11 15 ...  8 12  0]\n",
            " [13  9  5 ...  8  4  0]\n",
            " [15 11  7 ...  8  4  0]]\n"
          ]
        }
      ]
    },
    {
      "cell_type": "markdown",
      "metadata": {
        "id": "MxTkJ7gwcYtF"
      },
      "source": [
        "We can also create a lattice with a space group from scratch. In this case we must specify the locations of the unit cells and the coordinates within the unit cell. Let's create an identical square lattice using `nk.graph.Lattice`. The edges  will be exactly the same and the point/space groups will have all of the same elements (The order is slightly different as `Square` is created from a `Hypercube` class) "
      ]
    },
    {
      "cell_type": "code",
      "metadata": {
        "colab": {
          "base_uri": "https://localhost:8080/"
        },
        "id": "3dATfBJLc3rt",
        "outputId": "543b0178-3468-4f49-cd9b-49044dcbc98f"
      },
      "source": [
        "from netket.utils.group.planar import D\n",
        "\n",
        "square_lattice2 = nk.graph.Lattice(basis_vectors=[[1,0],[0,1]],site_offsets=[[0,0]],extent=[L,L],point_group=D(4))\n",
        "\n",
        "print(point_group)\n",
        "print(square_lattice2.point_group())\n",
        "\n",
        "assert np.all(square_lattice2.edges() == square_lattice.edges())"
      ],
      "execution_count": 4,
      "outputs": [
        {
          "output_type": "stream",
          "name": "stdout",
          "text": [
            "PermutationGroup(elems=[Id(), Refl(0°), Refl(90°), Rot(180°), Refl(45°), Rot(90°), Rot(-90°), Refl(-45°)], degree=16)\n",
            "PermutationGroup(elems=[Id(), Rot(90°), Rot(180°), Rot(-90°), Refl(0°), Refl(-45°), Refl(-90°), Refl(45°)], degree=16)\n"
          ]
        }
      ]
    },
    {
      "cell_type": "markdown",
      "metadata": {
        "id": "SWN6-_r_jYfF"
      },
      "source": [
        "Finally, we could also create the same lattice as a `Graph`, which is just a list of edges with no coordinates. With a graph object, we can still compute the symmetry group by calling `graph.automorphisms()` although the symmetry elements will be unlabeled. We see that all of these graphs will have the same symmetry elements"
      ]
    },
    {
      "cell_type": "code",
      "metadata": {
        "id": "sRhlf66ljy37"
      },
      "source": [
        "edges = []\n",
        "\n",
        "for i in range(L*L):\n",
        "  x = i % L\n",
        "  y = i // L\n",
        "\n",
        "  xn = (x + 1) % L\n",
        "\n",
        "  edges.append((x + y*L,xn+y*L))\n",
        "\n",
        "  yn = (y + 1) % L \n",
        "\n",
        "  edges.append((x + y*L,x+yn*L))\n",
        "\n",
        "square_lattice3 = nk.graph.Graph(edges=edges)\n",
        "\n",
        "assert len(square_lattice.automorphisms()) == len(square_lattice3.automorphisms())"
      ],
      "execution_count": 5,
      "outputs": []
    },
    {
      "cell_type": "markdown",
      "metadata": {
        "id": "YhUydguxmWYJ"
      },
      "source": [
        "Now we've created a square lattice three different ways, let's learn how to find it's representations. As physicists, we often want to select a representation from the little group, which is the point group at a fixed momentum. We can do this by calling `graph.space_group_builder()`. Let's look at the characters of the little groups at high-symmetry points in the Brillouin zone. "
      ]
    },
    {
      "cell_type": "code",
      "metadata": {
        "colab": {
          "base_uri": "https://localhost:8080/"
        },
        "id": "t0x4XGG6nWDl",
        "outputId": "4fc3e34e-55c1-4611-fa9a-ccc24db7b47b"
      },
      "source": [
        "from math import pi\n",
        "\n",
        "sgb = square_lattice.space_group_builder()\n",
        "\n",
        "#character table at the Γ point\n",
        "print(sgb.little_group([0,0]).character_table_readable())\n",
        "\n",
        "#character table at the X point\n",
        "print(sgb.little_group([pi,0]).character_table_readable())\n",
        "\n",
        "#character table at the M point\n",
        "print(sgb.little_group([pi,pi]).character_table_readable())\n"
      ],
      "execution_count": 6,
      "outputs": [
        {
          "output_type": "stream",
          "name": "stdout",
          "text": [
            "(['1xId()', '2xRefl(0°)', '1xRot(180°)', '2xRefl(45°)', '2xRot(90°)'], array([[ 1.,  1.,  1.,  1.,  1.],\n",
            "       [ 1.,  1.,  1., -1., -1.],\n",
            "       [ 1., -1.,  1.,  1., -1.],\n",
            "       [ 1., -1.,  1., -1.,  1.],\n",
            "       [ 2.,  0., -2.,  0.,  0.]]))\n",
            "(['1xId()', '1xRefl(0°)', '1xRefl(90°)', '1xRot(180°)'], array([[ 1.,  1.,  1.,  1.],\n",
            "       [ 1.,  1., -1., -1.],\n",
            "       [ 1., -1.,  1., -1.],\n",
            "       [ 1., -1., -1.,  1.]]))\n",
            "(['1xId()', '2xRefl(0°)', '1xRot(180°)', '2xRefl(45°)', '2xRot(90°)'], array([[ 1.,  1.,  1.,  1.,  1.],\n",
            "       [ 1.,  1.,  1., -1., -1.],\n",
            "       [ 1., -1.,  1.,  1., -1.],\n",
            "       [ 1., -1.,  1., -1.,  1.],\n",
            "       [ 2.,  0., -2.,  0.,  0.]]))\n"
          ]
        }
      ]
    },
    {
      "cell_type": "markdown",
      "metadata": {
        "id": "Vl4i-FV_oO5S"
      },
      "source": [
        "We can see that both the Γ and M points transform under the full point group $D_4$, while the X point only transforms under $D_2$. While `little_group(k).character_table_readable()` will give a compact description of the little group, `space_group_irreps()` will calculate the full character\n",
        "\n"
      ]
    },
    {
      "cell_type": "code",
      "metadata": {
        "colab": {
          "base_uri": "https://localhost:8080/"
        },
        "id": "MotoapP_pFZX",
        "outputId": "b74cbe37-3be4-4626-9511-28592733632f"
      },
      "source": [
        "#ΓA1 character\n",
        "print(sgb.space_group_irreps([0,0])[0])"
      ],
      "execution_count": 7,
      "outputs": [
        {
          "output_type": "stream",
          "name": "stdout",
          "text": [
            "[1. 1. 1. 1. 1. 1. 1. 1. 1. 1. 1. 1. 1. 1. 1. 1. 1. 1. 1. 1. 1. 1. 1. 1.\n",
            " 1. 1. 1. 1. 1. 1. 1. 1. 1. 1. 1. 1. 1. 1. 1. 1. 1. 1. 1. 1. 1. 1. 1. 1.\n",
            " 1. 1. 1. 1. 1. 1. 1. 1. 1. 1. 1. 1. 1. 1. 1. 1. 1. 1. 1. 1. 1. 1. 1. 1.\n",
            " 1. 1. 1. 1. 1. 1. 1. 1. 1. 1. 1. 1. 1. 1. 1. 1. 1. 1. 1. 1. 1. 1. 1. 1.\n",
            " 1. 1. 1. 1. 1. 1. 1. 1. 1. 1. 1. 1. 1. 1. 1. 1. 1. 1. 1. 1. 1. 1. 1. 1.\n",
            " 1. 1. 1. 1. 1. 1. 1. 1.]\n"
          ]
        }
      ]
    },
    {
      "cell_type": "markdown",
      "metadata": {
        "id": "O7-Sa5xQpf7d"
      },
      "source": [
        "Now that we've learned the basics, let's do some science! For time efficiency we're going to look at the Neel order and VBS goldstone modes and see how they change as we evolve J2. We will train models at $J_2 = 0.4$ and continutally evolve the models until we reach $J_2 = 0.6$, slowly enough that we stay in an energy minimum. We can do this adiabatic evolution so long as there is not a level crossing within a given representation. \n",
        "\n",
        "Let's figure out the Goldstone modes. The Neel ordered state is pictured below."
      ]
    },
    {
      "cell_type": "markdown",
      "metadata": {
        "id": "_6CrBJnJm9rH"
      },
      "source": [
        "![image.png](data:image/png;base64,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)"
      ]
    },
    {
      "cell_type": "markdown",
      "metadata": {
        "id": "yuSKC6ahoInb"
      },
      "source": [
        "We can determine the tower of states by examining how the ordering maps to itself. The Neel ordering maps to itself under a translation and a spin inversion. This means we need a representation such that eigenvalues of translation and spin parity multiply to one. This is satisfied by the ΓA1+ and MA1- representations where the +/- indicates spin parity. These two levels should have exponentially small splitting.\n",
        "\n",
        "On the other side of the QSL we have a columnar valence bond solid which is pictured below. The circled bonds indicate singlets"
      ]
    },
    {
      "cell_type": "markdown",
      "metadata": {
        "id": "-UKETUCLpqOi"
      },
      "source": [
        "![image.png](data:image/png;base64,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)"
      ]
    },
    {
      "cell_type": "markdown",
      "metadata": {
        "id": "JIXxj8Oap5zo"
      },
      "source": [
        "Obviously, the bonds could equivalently be vertical or horizontal. As you can see, the VBS breaks both translational symmetry and rotational symmetry. The lattice maps to itself via a translation in the y direction, a two fold translation in the x direction, an x translation plus a 180 degree rotation about one of the lattice sites, and a reflection about the x-axis. This indicates that in addition to the fully symmetric irrep, we have a X irrep with eigenvalue -1 with respect to the 180 degree rotations and eigenvalue 1 with respect to x-axis reflection. Let's check the character of the little group."
      ]
    },
    {
      "cell_type": "code",
      "metadata": {
        "colab": {
          "base_uri": "https://localhost:8080/"
        },
        "id": "1fhpJvzvge-9",
        "outputId": "10d1f78d-78a5-4e92-dd90-6a3a69c7c4aa"
      },
      "source": [
        "print(sgb.little_group([pi,0]).character_table_readable())"
      ],
      "execution_count": 8,
      "outputs": [
        {
          "output_type": "stream",
          "name": "stdout",
          "text": [
            "(['1xId()', '1xRefl(0°)', '1xRefl(90°)', '1xRot(180°)'], array([[ 1.,  1.,  1.,  1.],\n",
            "       [ 1.,  1., -1., -1.],\n",
            "       [ 1., -1.,  1., -1.],\n",
            "       [ 1., -1., -1.,  1.]]))\n"
          ]
        }
      ]
    },
    {
      "cell_type": "markdown",
      "metadata": {
        "id": "7thZ2aA9ihmX"
      },
      "source": [
        "In this case the angle of the reflection plane is given with respect to the x axis. Therefore, we want the second representation in that table, i.e. the XB1+\n",
        "\n",
        "Let's define our Hilbert space and Hamiltonian. We will build a next neighbor graph to include the $J_2$ interaction"
      ]
    },
    {
      "cell_type": "code",
      "metadata": {
        "id": "WlXiOpVIp1Dn"
      },
      "source": [
        "nn_edges = []\n",
        "\n",
        "for n in range(L*L):\n",
        "\n",
        "  x = n // L\n",
        "  y = n % L\n",
        "\n",
        "  for pair in [(1,1),(-1,1)]:\n",
        "    nx = (x + pair[0]) % L\n",
        "    ny = (y + pair[1]) % L\n",
        "\n",
        "    nn_edges.append((n,nx*L + ny))\n",
        "\n",
        "nn_graph = nk.graph.Graph(edges=nn_edges)\n",
        "\n",
        "def build_Hamiltonian(J2,nn_graph,hi):\n",
        "\n",
        "  ha = nk.operator.Heisenberg(hilbert=hi, graph=square_lattice,sign_rule=False) + nk.operator.Heisenberg(hilbert=hi, graph=nn_graph,J=J2,sign_rule=False)\n",
        "\n",
        "  return ha\n"
      ],
      "execution_count": 9,
      "outputs": []
    },
    {
      "cell_type": "markdown",
      "metadata": {
        "id": "DtASQUyPtpVv"
      },
      "source": [
        "Now lets define our model. We will build a group convolutinal neural network with 4 layers and 6 features. We can need to give it a `Lattice` object and a character table and the rest will be taken care of! We can also specify the eigenvalue with respect to spin inversion by setting parity = $\\pm 1$. The function below will build a model that transforms under the desired representation."
      ]
    },
    {
      "cell_type": "code",
      "metadata": {
        "id": "UBun4olIvJcD"
      },
      "source": [
        "\n",
        "#function to choose representation (these are in TOS for VBS and Neel order)\n",
        "\n",
        "def build_GCNN(irrep):\n",
        "  if irrep == \"Γ𝐴1+\":\n",
        "    chars = sgb.space_group_irreps([0,0])[0]\n",
        "    ma = nk.models.GCNN(symmetries=square_lattice,features=6,layers=4,parity=1,dtype=complex,characters=chars,mode='irreps')\n",
        "  if irrep == \"XB1+\":\n",
        "    chars = sgb.space_group_irreps([pi,0])[1]\n",
        "    ma = nk.models.GCNN(symmetries=square_lattice,features=6,layers=4,parity=1,dtype=complex,characters=chars,mode='irreps')\n",
        "  if irrep == \"M𝐴1-\":\n",
        "    chars = sgb.space_group_irreps([pi,pi])[0]\n",
        "    ma = nk.models.GCNN(symmetries=square_lattice,features=6,layers=4,parity=-1,dtype=complex,characters=chars,mode='irreps')\n",
        "\n",
        "  return ma \n",
        "\n",
        "\n"
      ],
      "execution_count": 10,
      "outputs": []
    },
    {
      "cell_type": "markdown",
      "metadata": {
        "id": "jNv0pYidlMmJ"
      },
      "source": [
        "Now we can define the optimization procedure. We will sample using metropolis Hastings and optimize using stochaistic gradient descent. Once we are close to a solution, we will slow the learning rate down so we get an accurate optimization. Next, we will adiabatically change J2 from 0.4 to 0.6 to trace the evolution of the energy. "
      ]
    },
    {
      "cell_type": "code",
      "metadata": {
        "id": "UErboorqlfFa"
      },
      "source": [
        "\n",
        "def run_optimization(irrep):\n",
        "  \n",
        "  #create Hilbert space\n",
        "  hi = nk.hilbert.Spin(s=0.5, total_sz = 0, N=square_lattice.n_nodes)\n",
        "\n",
        "  #create Hamiltonian\n",
        "  ha = build_Hamiltonian(0.4,nn_graph,hi)\n",
        "\n",
        "  #Sampler\n",
        "  sa = nk.sampler.MetropolisExchange(hilbert=hi,n_chains=1000,graph=square_lattice,d_max=2)\n",
        "\n",
        "  #Gradient descent optimizer\n",
        "  op = nk.optimizer.Sgd(learning_rate=5e-2)\n",
        "\n",
        "  #stochaistic reconfiguration\n",
        "  sr = nk.optimizer.SR(nk.optimizer.qgt.QGTJacobianPyTree, solver=cg, diag_shift=1e-2,holomorphic=False)\n",
        "\n",
        "  ma = build_GCNN(irrep)\n",
        "\n",
        "  vstate = nk.vqs.MCState(sampler=sa, model=ma, n_samples=1000,n_discard_per_chain=0)\n",
        "\n",
        "  gs = nk.driver.VMC(ha, op, variational_state=vstate,preconditioner=sr)\n",
        "  gs.run(n_iter=150,out=None)\n",
        "\n",
        "  op = nk.optimizer.Sgd(learning_rate=1e-2)\n",
        "  gs = nk.driver.VMC(ha, op, variational_state=vstate,preconditioner=sr)\n",
        "  gs.run(n_iter=50,out=None)\n",
        "\n",
        "  ens = []\n",
        "\n",
        "  for i in range(200):\n",
        "    J2 = 0.4 + i*0.001\n",
        "    ha = build_Hamiltonian(J2,nn_graph,hi)\n",
        "    gs = nk.driver.VMC(ha, op, variational_state=vstate,preconditioner=sr)\n",
        "    gs.run(n_iter=1,out='tmp')\n",
        "    energy = np.mean(json.load(open('tmp.log'))[\"Energy\"][\"Mean\"][\"real\"])\n",
        "    ens.append(energy)\n",
        "\n",
        "  return ens"
      ],
      "execution_count": 11,
      "outputs": []
    },
    {
      "cell_type": "markdown",
      "metadata": {
        "id": "rV6PcKN-s4yj"
      },
      "source": [
        "Now lets run the optimizations. Each of these will take around 40 mins on a GPU. We expect to see a level crossing between the MA1- irrep for Neel order and the XB1+ irrep for stripy order. "
      ]
    },
    {
      "cell_type": "code",
      "metadata": {
        "id": "wPEO2vx7m6wj"
      },
      "source": [
        "ens_gs = run_optimization(\"Γ𝐴1+\")\n",
        "ens_neel = run_optimization(\"M𝐴1-\")\n",
        "ens_VBS = run_optimization(\"XB1+\")"
      ],
      "execution_count": null,
      "outputs": []
    },
    {
      "cell_type": "markdown",
      "metadata": {
        "id": "4tTho6aKzU95"
      },
      "source": [
        "We see that the variance increases as we change J2. This is because we are moving fairly quickly and not giving the model enough time to adjust. We could remedy this by decreasing the change in J2 at each iteration. Let's plot our results!"
      ]
    },
    {
      "cell_type": "code",
      "metadata": {
        "colab": {
          "base_uri": "https://localhost:8080/",
          "height": 282
        },
        "id": "wOJJPdNbzR7g",
        "outputId": "6ff9116e-c737-4190-d71d-26887d27afc1"
      },
      "source": [
        "plt.plot(np.arange(0.4,0.6,0.001),ens_gs)\n",
        "plt.plot(np.arange(0.4,0.6,0.001),ens_neel)\n",
        "plt.plot(np.arange(0.4,0.6,0.001),ens_VBS)\n",
        "plt.plot(np.arange(0.4,0.6,0.001),ens_quintuplet)\n",
        "\n",
        "plt.legend(labels=[\"Ground State Energy\", \"Lowest Energy Neel TOS\",\"Lowest Energy VBS TOS\",\"Quintuplet\"])"
      ],
      "execution_count": null,
      "outputs": [
        {
          "output_type": "execute_result",
          "data": {
            "text/plain": [
              "<matplotlib.legend.Legend at 0x7fbe6c136d10>"
            ]
          },
          "metadata": {},
          "execution_count": 19
        },
        {
          "output_type": "display_data",
          "data": {
            "image/png": "[encoded data removed]",
            "text/plain": [
              "<Figure size 432x288 with 1 Axes>"
            ]
          },
          "metadata": {
            "needs_background": "light"
          }
        }
      ]
    },
    {
      "cell_type": "markdown",
      "metadata": {
        "id": "Hfu_oEn-6D5L"
      },
      "source": [
        "Voila, we see the level crossing we were promised! As it turns out, this level crossing indicates the transition from QSL to VBS as the Neel order Goldstone mode is becoming gapped. \n",
        "\n",
        "To see the Neel QSL transition we'd have to look for where the VBS mode crosses under the quintuplet. By the squeezing theorem, this indicates the VBS mode becoming gapless. We could simulate the quintuplet by looking for the Γ𝐴1 irrep and constraining the sampler to `total_sz = 2`. \n",
        "\n",
        "Since we only looked at a 16 site lattice, we could have done today's calculation quite easily with exact diagonalization. However, using NNQS we can scale to much bigger system sizes. By extrapolating to the thermondynamic limit, we can uncover information about the quantum phases from the excitation spectrum.     \n",
        "\n"
      ]
    }
  ]
}